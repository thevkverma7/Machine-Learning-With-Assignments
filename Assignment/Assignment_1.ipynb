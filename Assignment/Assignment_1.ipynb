{
 "cells": [
  {
   "cell_type": "markdown",
   "id": "ee63a6d8",
   "metadata": {},
   "source": [
    "#### 1. What does one mean by the term machine learning?"
   ]
  },
  {
   "cell_type": "markdown",
   "id": "1f4f599d",
   "metadata": {},
   "source": [
    "Ans: 1) ML is a branch of AI that helps software programs to grow more accurate at predicting events without being specifically programmed to do so. Machine learning algorithms estimate new output values by using historical data as input.\n",
    "\n",
    "2) Types of Machine Learning :-\n",
    "\n",
    "    a)Supervised Learning \n",
    "     \n",
    "    b)Unsupervised Learning \n",
    "     \n",
    "    c)Reinforcement learning"
   ]
  },
  {
   "cell_type": "markdown",
   "id": "9b488ff5",
   "metadata": {},
   "source": [
    "#### 2.Can you think of 4 distinct types of issues where it shines?\n",
    "\n",
    "Ans: \n",
    "     \n",
    "     A) Sentiment Analysis\n",
    "\n",
    "     B) Demand Forcasting\n",
    "     \n",
    "     C) Spam Identifying\n",
    "     \n",
    "     D) Image and Video Recognition"
   ]
  },
  {
   "cell_type": "markdown",
   "id": "01838a0f",
   "metadata": {},
   "source": [
    "#### 3.What is a labeled training set, and how does it work?\n",
    "Ans:\n",
    "\n",
    "-> In supervised learning techniques, a labelled training set is used.\n",
    "\n",
    "-> A labelled training set is a collection of data in which one of the data attributes specifies the class to which the training example belongs. "
   ]
  },
  {
   "cell_type": "markdown",
   "id": "b359c56a",
   "metadata": {},
   "source": [
    "#### 4.What are the two most important tasks that are supervised?\n",
    "Ans: Regression and classification are the two most popular supervised learning problems. \n",
    "\n",
    "-> Our prediction in a regression problem is a scalar value.\n",
    "\n",
    "-> When we try to answer a classification problem, we get either a 1 or a 0."
   ]
  },
  {
   "cell_type": "markdown",
   "id": "d8a0cd2a",
   "metadata": {},
   "source": [
    "#### 5.Can you think of four examples of unsupervised tasks?\n",
    "Ans: Common unsupervised tasks are:-\n",
    "\n",
    "a) Clustering\n",
    "\n",
    "b) Visualization\n",
    "\n",
    "c) Dimensionality reduction \n",
    "\n",
    "d) Association"
   ]
  },
  {
   "cell_type": "markdown",
   "id": "0021d90c",
   "metadata": {},
   "source": [
    "#### 6.State the machine learning model that would be best to make a robot walk through various unfamiliar terrains?\n",
    "Ans: I would use a reinforcement learning strategy. Reinforcement learning is a system in which a \"agent\" observes its surroundings, chooses and executes actions, and then receives a reward or punishment based on the outcome of the action. The agent develops the most productive strategy on its own over time."
   ]
  },
  {
   "cell_type": "markdown",
   "id": "70dca240",
   "metadata": {},
   "source": [
    "#### 7.Which algorithm will you use to divide your customers into different groups?\n",
    "Ans: The Best Algorithm to Segment Customers into different groups depends upon tow cases:-\n",
    "\n",
    "Case1: When the Groups have known labels then Supervised Learning\n",
    "\n",
    "Case2: When there are no group labels then Unsupervised learning"
   ]
  },
  {
   "cell_type": "markdown",
   "id": "0f0eb939",
   "metadata": {},
   "source": [
    "#### 8.Will you consider the problem of spam detection to be a supervised or unsupervised learning problem?\n",
    "Ans: Because the labels are known, spam detection is a Supervised Machine Learning problem. In this case, two things exist that is spam or no spam."
   ]
  },
  {
   "cell_type": "markdown",
   "id": "26651732",
   "metadata": {},
   "source": [
    "#### 9.What is the concept of an online learning system?\n",
    "Ans: An online learning system is a learning system in which the computer continuously learns as data is fed to it in small streams."
   ]
  },
  {
   "cell_type": "markdown",
   "id": "463927ce",
   "metadata": {},
   "source": [
    "#### 10.What is out-of-core learning, and how does it differ from core learning?\n",
    "Ans:  Out-of-core learning system is a system that can handle data that cannot fit into your computer memory. It uses online learning system to feed data in small bits."
   ]
  },
  {
   "cell_type": "markdown",
   "id": "90533a35",
   "metadata": {},
   "source": [
    "#### 11.What kind of learning algorithm makes predictions using a similarity measure?\n",
    "Ans: To generalise to new situations, instance-based learning algorithms use a measure of similarity. In an instance-based learning system, the algorithm memorises the instances and then generalises using the similarity measure. "
   ]
  },
  {
   "cell_type": "markdown",
   "id": "7da3dd22",
   "metadata": {},
   "source": [
    "#### 12.What's  the difference between a model parameter and a hyperparameter in a learning algorithm?\n",
    "Ans: A hyperparameter is a learning algorithm parameter, not a model parameter. For example, in a simple linear regression issue, theta, which is a vector of weights, is used to parameterize our model. We have a cost function that is run repeatedly using the gradient descent technique in order to discover the optimal values for theta. The learning rate of the method has a hyperparameter called alpha in gradient descent."
   ]
  },
  {
   "cell_type": "markdown",
   "id": "b578daac",
   "metadata": {},
   "source": [
    "#### 13.What are the criteria that model-based learning algorithms look for? What is the most popular method they use to achieve success? What method do they use to make predictions?\n",
    "Ans: The ability to generalise to new cases is the objective of a model-based algorithm. Model-based algorithms achieve this by looking for the best values for the model's parameters, which are commonly referred to as theta. Machine learning is all about this seeking, or \"learning.\" Model-based systems learn by minimising a cost function that assesses how bad the system is at generating predictions on fresh data, plus a penalty for model complexity if the model is regularised, plus a penalty for model complexity if the model is not regularised. To construct a prediction, the characteristics of a new instance are supplied into a hypothesis function, which uses the lowest theta obtained by executing the cost function repeatedly."
   ]
  },
  {
   "cell_type": "markdown",
   "id": "cee76d17",
   "metadata": {},
   "source": [
    "#### 14.Can you name four of the most important Machine Learning challenges?\n",
    "Ans: Four main challenges in Machine Learning include the following:\n",
    "\n",
    "A) Overfitting the Data (using a model too complicated)\n",
    "\n",
    "B) Underfitting the data (using a simple model)\n",
    "\n",
    "C) Lacking in Data\n",
    "\n",
    "D) Non Representative Data."
   ]
  },
  {
   "cell_type": "markdown",
   "id": "4a12468f",
   "metadata": {},
   "source": [
    "#### 15.What happens if the model performs well on the training data but fails to generalize the results to new situations? Can you think of three different options?\n",
    "Ans: If the model fails to perform well on fresh instances, it has overfitted on the training data. We have three options for dealing with this:\n",
    "\n",
    "A) collect additional data\n",
    "\n",
    "B) develop a simpler model\n",
    "\n",
    "C) Remove any outliers or noise from the current data collection."
   ]
  },
  {
   "cell_type": "markdown",
   "id": "dd0d1afb",
   "metadata": {},
   "source": [
    "#### 16.What exactly is a test set, and why would you need one?\n",
    "Ans:A test set is a set of training data used to evaluate your model fit and see how it performs. A test set is required to determine how well or poorly a model performs."
   ]
  },
  {
   "cell_type": "markdown",
   "id": "e7226830",
   "metadata": {},
   "source": [
    "#### 17.What is a validation set&#39;s purpose?\n",
    "Ans: A validation set is a collection of training models that can be compared."
   ]
  },
  {
   "cell_type": "markdown",
   "id": "1bb6ea27",
   "metadata": {},
   "source": [
    "#### 18.What precisely is the train-dev kit, when will you need it, how do you put it to use?\n",
    "Ans: Cross-validation is a technique that allows you to compare models without having to use a separate validation set. It is preferable over validation set since it allows us to avoid breaking a portion of the training set in order to build a validation set, and having more data is always beneficial."
   ]
  },
  {
   "cell_type": "markdown",
   "id": "01d2d739",
   "metadata": {},
   "source": [
    "#### 19.What could go wrong if you use the test set to tune hyperparameters?\n",
    "Ans: If you adjust hyperparameters using test sets, the model may not perform well on out-of-sample data since it is tuned only for that set."
   ]
  },
  {
   "cell_type": "code",
   "execution_count": null,
   "id": "840faf12",
   "metadata": {},
   "outputs": [],
   "source": []
  }
 ],
 "metadata": {
  "kernelspec": {
   "display_name": "Python 3 (ipykernel)",
   "language": "python",
   "name": "python3"
  },
  "language_info": {
   "codemirror_mode": {
    "name": "ipython",
    "version": 3
   },
   "file_extension": ".py",
   "mimetype": "text/x-python",
   "name": "python",
   "nbconvert_exporter": "python",
   "pygments_lexer": "ipython3",
   "version": "3.9.0"
  }
 },
 "nbformat": 4,
 "nbformat_minor": 5
}
